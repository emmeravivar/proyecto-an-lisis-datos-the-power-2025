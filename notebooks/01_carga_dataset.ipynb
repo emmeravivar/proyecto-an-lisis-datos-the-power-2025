{
 "cells": [
  {
   "cell_type": "code",
   "execution_count": 6,
   "id": "e7c91292",
   "metadata": {},
   "outputs": [
    {
     "name": "stdout",
     "output_type": "stream",
     "text": [
      "orders exists: True → /Users/emmeravivar/Desktop/ecommerce-eda/data/raw/olist_orders_dataset.csv\n",
      "items exists: True → /Users/emmeravivar/Desktop/ecommerce-eda/data/raw/olist_order_items_dataset.csv\n",
      "products exists: True → /Users/emmeravivar/Desktop/ecommerce-eda/data/raw/olist_products_dataset.csv\n",
      "sellers exists: True → /Users/emmeravivar/Desktop/ecommerce-eda/data/raw/olist_sellers_dataset.csv\n"
     ]
    }
   ],
   "source": [
    "from pathlib import Path\n",
    "import pandas as pd\n",
    "\n",
    "# Definir rutas base\n",
    "BASE_DIR = Path.cwd().parent if Path.cwd().name == \"notebooks\" else Path.cwd()\n",
    "RAW_DIR = BASE_DIR / \"data\" / \"raw\"\n",
    "\n",
    "# Definir rutas de archivos\n",
    "FILES = {\n",
    "    \"orders\": RAW_DIR / \"olist_orders_dataset.csv\",\n",
    "    \"items\": RAW_DIR / \"olist_order_items_dataset.csv\",\n",
    "    \"products\": RAW_DIR / \"olist_products_dataset.csv\",\n",
    "    \"sellers\": RAW_DIR / \"olist_sellers_dataset.csv\",\n",
    "}\n",
    "\n",
    "# Verificación rápida\n",
    "for name, path in FILES.items():\n",
    "    print(f\"{name} exists: {path.exists()} → {path}\")\n"
   ]
  },
  {
   "cell_type": "code",
   "execution_count": 7,
   "id": "66069932",
   "metadata": {},
   "outputs": [
    {
     "data": {
      "text/plain": [
       "((99441, 8), (112650, 7))"
      ]
     },
     "execution_count": 7,
     "metadata": {},
     "output_type": "execute_result"
    }
   ],
   "source": [
    "# Columnas de fecha para orders\n",
    "parse_dates = [\n",
    "    \"order_purchase_timestamp\",\n",
    "    \"order_approved_at\",\n",
    "    \"order_delivered_carrier_date\",\n",
    "    \"order_delivered_customer_date\",\n",
    "    \"order_estimated_delivery_date\"\n",
    "]\n",
    "\n",
    "# Cargar datasets\n",
    "orders = pd.read_csv(FILES[\"orders\"], parse_dates=parse_dates, dtype={\n",
    "    \"order_id\": \"string\", \n",
    "    \"customer_id\": \"string\", \n",
    "    \"order_status\": \"category\"\n",
    "})\n",
    "\n",
    "items = pd.read_csv(FILES[\"items\"], dtype={\n",
    "    \"order_id\": \"string\",\n",
    "    \"order_item_id\": \"int16\",\n",
    "    \"product_id\": \"string\",\n",
    "    \"seller_id\": \"string\",\n",
    "    \"price\": \"float32\",\n",
    "    \"freight_value\": \"float32\",\n",
    "})\n",
    "\n",
    "items[\"shipping_limit_date\"] = pd.to_datetime(items[\"shipping_limit_date\"], errors=\"coerce\")\n",
    "\n",
    "orders.shape, items.shape\n",
    "# Columnas de fecha para orders\n",
    "parse_dates = [\n",
    "    \"order_purchase_timestamp\",\n",
    "    \"order_approved_at\",\n",
    "    \"order_delivered_carrier_date\",\n",
    "    \"order_delivered_customer_date\",\n",
    "    \"order_estimated_delivery_date\"\n",
    "]\n",
    "\n",
    "# Cargar datasets\n",
    "orders = pd.read_csv(FILES[\"orders\"], parse_dates=parse_dates, dtype={\n",
    "    \"order_id\": \"string\", \n",
    "    \"customer_id\": \"string\", \n",
    "    \"order_status\": \"category\"\n",
    "})\n",
    "\n",
    "items = pd.read_csv(FILES[\"items\"], dtype={\n",
    "    \"order_id\": \"string\",\n",
    "    \"order_item_id\": \"int16\",\n",
    "    \"product_id\": \"string\",\n",
    "    \"seller_id\": \"string\",\n",
    "    \"price\": \"float32\",\n",
    "    \"freight_value\": \"float32\",\n",
    "})\n",
    "\n",
    "items[\"shipping_limit_date\"] = pd.to_datetime(items[\"shipping_limit_date\"], errors=\"coerce\")\n",
    "\n",
    "orders.shape, items.shape\n"
   ]
  },
  {
   "cell_type": "code",
   "execution_count": 8,
   "id": "cebd4fe0",
   "metadata": {},
   "outputs": [
    {
     "data": {
      "text/plain": [
       "(True,\n",
       " True,\n",
       " order_delivered_customer_date    0.029817\n",
       " order_delivered_carrier_date     0.017930\n",
       " order_approved_at                0.001609\n",
       " order_id                         0.000000\n",
       " customer_id                      0.000000\n",
       " order_status                     0.000000\n",
       " order_purchase_timestamp         0.000000\n",
       " order_estimated_delivery_date    0.000000\n",
       " dtype: float64,\n",
       " order_id               0.0\n",
       " order_item_id          0.0\n",
       " product_id             0.0\n",
       " seller_id              0.0\n",
       " shipping_limit_date    0.0\n",
       " price                  0.0\n",
       " freight_value          0.0\n",
       " dtype: float64)"
      ]
     },
     "execution_count": 8,
     "metadata": {},
     "output_type": "execute_result"
    }
   ],
   "source": [
    "# Verifica unicidad de claves primarias\n",
    "orders_key_unique = orders[\"order_id\"].is_unique\n",
    "items_key_unique  = items[[\"order_id\", \"order_item_id\"]].drop_duplicates().shape[0] == items.shape[0]\n",
    "\n",
    "# Porcentaje de valores nulos\n",
    "nulls_orders = orders.isna().mean().sort_values(ascending=False).head(10)\n",
    "nulls_items  = items.isna().mean().sort_values(ascending=False).head(10)\n",
    "\n",
    "orders_key_unique, items_key_unique, nulls_orders, nulls_items\n"
   ]
  },
  {
   "cell_type": "code",
   "execution_count": 9,
   "id": "db6f9908",
   "metadata": {},
   "outputs": [
    {
     "data": {
      "text/plain": [
       "((112650, 14),\n",
       "                            order_id  order_item_id  \\\n",
       " 0  00010242fe8c5a6d1ba2dd792cb16214              1   \n",
       " 1  00018f77f2f0320c557190d7a144bdd3              1   \n",
       " 2  000229ec398224ef6ca0657da4fc703e              1   \n",
       " \n",
       "                          product_id                         seller_id  \\\n",
       " 0  4244733e06e7ecb4970a6e2683c13e61  48436dade18ac8b2bce089ec2a041202   \n",
       " 1  e5f2d52b802189ee658865ca93d83a8f  dd7ddc04e1b6c2c614352b383efe2d36   \n",
       " 2  c777355d18b72b67abbeef9df44fd0fd  5b51032eddd242adc84c38acab88f23d   \n",
       " \n",
       "   shipping_limit_date       price  freight_value order_status  \\\n",
       " 0 2017-09-19 09:45:35   58.900002      13.290000    delivered   \n",
       " 1 2017-05-03 11:05:13  239.899994      19.930000    delivered   \n",
       " 2 2018-01-18 14:48:30  199.000000      17.870001    delivered   \n",
       " \n",
       "   order_purchase_timestamp   order_approved_at order_delivered_carrier_date  \\\n",
       " 0      2017-09-13 08:59:02 2017-09-13 09:45:35          2017-09-19 18:34:16   \n",
       " 1      2017-04-26 10:53:06 2017-04-26 11:05:13          2017-05-04 14:35:00   \n",
       " 2      2018-01-14 14:33:31 2018-01-14 14:48:30          2018-01-16 12:36:48   \n",
       " \n",
       "   order_delivered_customer_date order_estimated_delivery_date  \\\n",
       " 0           2017-09-20 23:43:48                    2017-09-29   \n",
       " 1           2017-05-12 16:04:24                    2017-05-15   \n",
       " 2           2018-01-22 13:19:16                    2018-02-05   \n",
       " \n",
       "                         customer_id  \n",
       " 0  3ce436f183e68e07877b285a838db11a  \n",
       " 1  f6dd3ec061db4e3987629fe6b26e5cce  \n",
       " 2  6489ae5e4333f3693df5ad4372dab6d3  )"
      ]
     },
     "execution_count": 9,
     "metadata": {},
     "output_type": "execute_result"
    }
   ],
   "source": [
    "# Fusionamos order_items con orders y enriquecemos\n",
    "df = items.merge(\n",
    "    orders[[\"order_id\", \"order_status\", \"order_purchase_timestamp\", \"order_approved_at\",\n",
    "            \"order_delivered_carrier_date\", \"order_delivered_customer_date\",\n",
    "            \"order_estimated_delivery_date\", \"customer_id\"]],\n",
    "    on=\"order_id\", how=\"left\", validate=\"many_to_one\"\n",
    ")\n",
    "\n",
    "df.shape, df.head(3)\n"
   ]
  },
  {
   "cell_type": "code",
   "execution_count": 10,
   "id": "d86fd306",
   "metadata": {},
   "outputs": [
    {
     "name": "stdout",
     "output_type": "stream",
     "text": [
      "✅ Archivo guardado: /Users/emmeravivar/Desktop/ecommerce-eda/data/interim/order_items_join_orders.parquet\n"
     ]
    }
   ],
   "source": [
    "# Guardamos dataset enriquecido para análisis\n",
    "INTERIM = BASE_DIR / \"data\" / \"interim\"\n",
    "INTERIM.mkdir(parents=True, exist_ok=True)\n",
    "\n",
    "df.to_parquet(INTERIM / \"order_items_join_orders.parquet\", index=False)\n",
    "print(\"✅ Archivo guardado:\", INTERIM / \"order_items_join_orders.parquet\")\n"
   ]
  }
 ],
 "metadata": {
  "kernelspec": {
   "display_name": ".venv",
   "language": "python",
   "name": "python3"
  },
  "language_info": {
   "codemirror_mode": {
    "name": "ipython",
    "version": 3
   },
   "file_extension": ".py",
   "mimetype": "text/x-python",
   "name": "python",
   "nbconvert_exporter": "python",
   "pygments_lexer": "ipython3",
   "version": "3.13.5"
  }
 },
 "nbformat": 4,
 "nbformat_minor": 5
}
